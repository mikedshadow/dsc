{
 "cells": [
  {
   "cell_type": "markdown",
   "metadata": {},
   "source": [
    "This exercise will require you to pull some data from https://data.nasdaq.com/ (formerly Quandl API)."
   ]
  },
  {
   "cell_type": "markdown",
   "metadata": {},
   "source": [
    "As a first step, you will need to register a free account on the https://data.nasdaq.com/ website."
   ]
  },
  {
   "cell_type": "markdown",
   "metadata": {},
   "source": [
    "After you register, you will be provided with a unique API key, that you should store:\n",
    "\n",
    "*Note*: Use a `.env` file and put your key in there and `python-dotenv` to access it in this notebook. \n",
    "\n",
    "The code below uses a key that was used when generating this project but has since been deleted. Never submit your keys to source control. There is a `.env-example` file in this repository to illusrtate what you need. Copy that to a file called `.env` and use your own api key in that `.env` file. Make sure you also have a `.gitignore` file with a line for `.env` added to it. \n",
    "\n",
    "The standard Python gitignore is [here](https://github.com/github/gitignore/blob/master/Python.gitignore) you can just copy that. "
   ]
  },
  {
   "cell_type": "code",
   "execution_count": 89,
   "metadata": {
    "scrolled": false
   },
   "outputs": [],
   "source": [
    "# get api key from your .env file\n",
    "import os\n",
    "import quandl\n",
    "from dotenv import load_dotenv\n",
    "load_dotenv('./.env')\n",
    "quandl.ApiConfig.api_key = os.getenv('NASDAQ_API_KEY')\n",
    "\n"
   ]
  },
  {
   "cell_type": "markdown",
   "metadata": {},
   "source": [
    "Nasdaq Data has a large number of data sources, but, unfortunately, most of them require a Premium subscription. Still, there are also a good number of free datasets."
   ]
  },
  {
   "cell_type": "markdown",
   "metadata": {},
   "source": [
    "For this mini project, we will focus on equities data from the Frankfurt Stock Exhange (FSE), which is available for free. We'll try and analyze the stock prices of a company called Carl Zeiss Meditec, which manufactures tools for eye examinations, as well as medical lasers for laser eye surgery: https://www.zeiss.com/meditec/int/home.html. The company is listed under the stock ticker AFX_X."
   ]
  },
  {
   "cell_type": "markdown",
   "metadata": {},
   "source": [
    "You can find the detailed Nasdaq Data API instructions here: https://docs.data.nasdaq.com/docs/in-depth-usage"
   ]
  },
  {
   "cell_type": "markdown",
   "metadata": {},
   "source": [
    "While there is a dedicated Python package for connecting to the Nasdaq API, we would prefer that you use the *requests* package, which can be easily downloaded using *pip* or *conda*. You can find the documentation for the package here: http://docs.python-requests.org/en/master/ "
   ]
  },
  {
   "cell_type": "markdown",
   "metadata": {},
   "source": [
    "Finally, apart from the *requests* package, you are encouraged to not use any third party Python packages, such as *pandas*, and instead focus on what's available in the Python Standard Library (the *collections* module might come in handy: https://pymotw.com/3/collections/).\n",
    "Also, since you won't have access to DataFrames, you are encouraged to us Python's native data structures - preferably dictionaries, though some questions can also be answered using lists.\n",
    "You can read more on these data structures here: https://docs.python.org/3/tutorial/datastructures.html"
   ]
  },
  {
   "cell_type": "markdown",
   "metadata": {},
   "source": [
    "Keep in mind that the JSON responses you will be getting from the API map almost one-to-one to Python's dictionaries. Unfortunately, they can be very nested, so make sure you read up on indexing dictionaries in the documentation provided above."
   ]
  },
  {
   "cell_type": "markdown",
   "metadata": {},
   "source": [
    "Import the *requests* package."
   ]
  },
  {
   "cell_type": "code",
   "execution_count": 90,
   "metadata": {},
   "outputs": [],
   "source": [
    "# First, import the relevant modules\n",
    "import requests"
   ]
  },
  {
   "cell_type": "markdown",
   "metadata": {},
   "source": [
    "Note: API's can change a bit with each version, for this exercise it is reccomended to use the nasdaq api at `https://data.nasdaq.com/api/v3/`. This is the same api as what used to be quandl so `https://www.quandl.com/api/v3/` should work too.\n",
    "\n",
    "Hint: We are looking for the `AFX_X` data on the `datasets/FSE/` dataset."
   ]
  },
  {
   "cell_type": "code",
   "execution_count": 91,
   "metadata": {},
   "outputs": [],
   "source": [
    "# Now, call the Nasdaq API and pull out a small sample of the data (only one day) to get a glimpse\n",
    "# into the JSON structure that will be returned\n",
    "# Assign URL to variable: url\n",
    "url = \"https://data.nasdaq.com/api/v3/datasets/FSE/AFX_X/data.json?limit=1\"\n",
    "\n",
    "# Package the request, send the request and catch the response: r\n",
    "r = requests.get(url)\n",
    "\n",
    "# Decode the JSON data into a dictionary: json_data\n",
    "json_data = r.json()\n",
    "#snapshot =json_data['data']"
   ]
  },
  {
   "cell_type": "code",
   "execution_count": 92,
   "metadata": {},
   "outputs": [
    {
     "data": {
      "text/plain": [
       "{'dataset_data': {'limit': 1,\n",
       "  'transform': None,\n",
       "  'column_index': None,\n",
       "  'column_names': ['Date',\n",
       "   'Open',\n",
       "   'High',\n",
       "   'Low',\n",
       "   'Close',\n",
       "   'Change',\n",
       "   'Traded Volume',\n",
       "   'Turnover',\n",
       "   'Last Price of the Day',\n",
       "   'Daily Traded Units',\n",
       "   'Daily Turnover'],\n",
       "  'start_date': '2000-06-07',\n",
       "  'end_date': '2020-12-01',\n",
       "  'frequency': 'daily',\n",
       "  'data': [['2020-12-01',\n",
       "    112.2,\n",
       "    112.2,\n",
       "    111.5,\n",
       "    112.0,\n",
       "    None,\n",
       "    51.0,\n",
       "    5703.0,\n",
       "    None,\n",
       "    None,\n",
       "    None]],\n",
       "  'collapse': None,\n",
       "  'order': None}}"
      ]
     },
     "execution_count": 92,
     "metadata": {},
     "output_type": "execute_result"
    }
   ],
   "source": [
    "# Inspect the JSON structure of the object you created, and take note of how nested it is,\n",
    "# as well as the overall structure\n",
    "json_data\n"
   ]
  },
  {
   "cell_type": "markdown",
   "metadata": {},
   "source": [
    "These are your tasks for this mini project:\n",
    "\n",
    "1. Collect data from the Franfurt Stock Exchange, for the ticker AFX_X, for the whole year 2017 (keep in mind that the date format is YYYY-MM-DD).\n",
    "2. Convert the returned JSON object into a Python dictionary.\n",
    "3. Calculate what the highest and lowest opening prices were for the stock in this period.\n",
    "4. What was the largest change in any one day (based on High and Low price)?\n",
    "5. What was the largest change between any two days (based on Closing Price)?\n",
    "6. What was the average daily trading volume during this year?\n",
    "7. (Optional) What was the median trading volume during this year. (Note: you may need to implement your own function for calculating the median.)"
   ]
  },
  {
   "cell_type": "markdown",
   "metadata": {},
   "source": [
    "### Step 1 and 2\n",
    "Collect the data from nasdaq.com for Zeiss Medical Technologies, ticker AFX_X, from Jan. 1, 2017 through Dec. 31, 2017 from the  Franfurt Stock Exchange. \n",
    "\n",
    "Store the data in a python dictionary `json_data`."
   ]
  },
  {
   "cell_type": "code",
   "execution_count": 93,
   "metadata": {},
   "outputs": [],
   "source": [
    "url = \"https://data.nasdaq.com/api/v3/datasets/FSE/AFX_X/data.json?start_date='2017-01-01'&end_date='2017-12-31'\"\n",
    "r = requests.get(url)\n",
    "\n",
    "# Decode the JSON data into a dictionary: json_data\n",
    "json_data = r.json()"
   ]
  },
  {
   "cell_type": "markdown",
   "metadata": {},
   "source": [
    "### Step 3\n",
    "Find the highest and lowest opening prices. "
   ]
  },
  {
   "cell_type": "code",
   "execution_count": 94,
   "metadata": {},
   "outputs": [],
   "source": [
    "# Find the names of the data columns as column_names\n",
    "json_data['dataset_data']['data']\n",
    "data = json_data['dataset_data']['data']\n",
    "column_names = json_data['dataset_data']['column_names']\n"
   ]
  },
  {
   "cell_type": "markdown",
   "metadata": {},
   "source": [
    "First create a dictionary `dict_date` with dates as keys and the rest of that list as the item"
   ]
  },
  {
   "cell_type": "code",
   "execution_count": 95,
   "metadata": {},
   "outputs": [],
   "source": [
    "# create a dictionary dict_date of the data list with the date as keys\n",
    "# The items are the remaining list\n",
    "dict_date ={}\n",
    "for date in data:\n",
    "    temp = {}\n",
    "    for i, col in enumerate(column_names[1:]):\n",
    "        temp[col] = date[i+1]\n",
    "    dict_date[date[0]] = temp\n",
    "    \n"
   ]
  },
  {
   "cell_type": "markdown",
   "metadata": {},
   "source": [
    "Now create a dictionary `opening` of just opening prices keyed by date."
   ]
  },
  {
   "cell_type": "code",
   "execution_count": 96,
   "metadata": {},
   "outputs": [],
   "source": [
    "# create a new dictionary opening with dates as keys and opening prices as items\n",
    "opening = {}\n",
    "for date in dict_date.keys():\n",
    "    if dict_date[date]['Open'] is not None:\n",
    "        opening[date] = dict_date[date]['Open']"
   ]
  },
  {
   "cell_type": "markdown",
   "metadata": {},
   "source": [
    "Sort the values in ascending order to find the lowest open."
   ]
  },
  {
   "cell_type": "code",
   "execution_count": 97,
   "metadata": {},
   "outputs": [
    {
     "name": "stdout",
     "output_type": "stream",
     "text": [
      "The lowest opening price of $34.0 occured on 2017-01-24\n"
     ]
    }
   ],
   "source": [
    "min_open = sorted(opening.items(), key=lambda item: item[1])[0]\n",
    "print('The lowest opening price of $' + str(min_open[1]) + ' occured on ' + str(min_open[0]))"
   ]
  },
  {
   "cell_type": "markdown",
   "metadata": {},
   "source": [
    "Sort the values in descending order to find the highest open."
   ]
  },
  {
   "cell_type": "code",
   "execution_count": 98,
   "metadata": {},
   "outputs": [
    {
     "name": "stdout",
     "output_type": "stream",
     "text": [
      "The highest opening price of $53.11 occured on 2017-12-14\n"
     ]
    }
   ],
   "source": [
    "max_open = sorted(opening.items(), reverse=True, key=lambda item: item[1])[0]\n",
    "print('The highest opening price of $' + str(max_open[1]) + ' occured on ' + str(max_open[0]))"
   ]
  },
  {
   "cell_type": "markdown",
   "metadata": {},
   "source": [
    "### Step 4\n",
    "What was the largest change in any one day (based on High and Low price)?\n",
    "\n",
    "Create a date keyed dictionary with the difference of high and low prices on that day as the items. Sort as above in descending order to find the maximum in the first row."
   ]
  },
  {
   "cell_type": "code",
   "execution_count": 99,
   "metadata": {},
   "outputs": [
    {
     "name": "stdout",
     "output_type": "stream",
     "text": [
      "The largest intraday change in price of $2.8100000000000023 occured on 2017-05-11\n"
     ]
    }
   ],
   "source": [
    "change = {}\n",
    "for date in dict_date.keys():\n",
    "    if dict_date[date]['High'] is not None:\n",
    "        if dict_date[date]['Low'] is not None:\n",
    "            change[date] = dict_date[date]['High'] - dict_date[date]['Low']\n",
    "max_change = sorted(change.items(), reverse=True, key=lambda item: item[1])[0]\n",
    "print('The largest intraday change in price of $' + str(max_change[1]) + ' occured on ' + str(max_change[0]))"
   ]
  },
  {
   "cell_type": "markdown",
   "metadata": {},
   "source": [
    "### Step 5\n",
    "What was the largest change between any two days (based on Closing Price)?"
   ]
  },
  {
   "cell_type": "code",
   "execution_count": 100,
   "metadata": {},
   "outputs": [
    {
     "name": "stdout",
     "output_type": "stream",
     "text": [
      "The largest change in price of $2.559999999999995 occured between 2017-05-18 and the previous trading day\n"
     ]
    }
   ],
   "source": [
    "# create dictionary of closing prices keyed by date\n",
    "close = {}\n",
    "for date in dict_date.keys():\n",
    "    if dict_date[date]['Close'] is not None:\n",
    "        close[date] = dict_date[date]['Close']\n",
    "# sort the closings by date so the most recent is the first row        \n",
    "close_srt = sorted(close.items())\n",
    "# create dictionaries for both the change and the absolute value of the change in closing price\n",
    "# between the keyed date and the previous trading day \n",
    "dchange = {}\n",
    "abs_dchange = {}\n",
    "for i,date in enumerate(dict_date.keys()):\n",
    "    if i < len(dict_date.keys()):\n",
    "        dchange[date] = close_srt[i][1] -  close_srt[i-1][1]\n",
    "        abs_dchange[date] = abs(close_srt[i][1] -  close_srt[i-1][1])\n",
    "abs_dchange['2017-12-29'] = 0\n",
    "max_abs_change = sorted(abs_dchange.items(), reverse=True, key=lambda item: item[1])[0]\n",
    "max_abs_change\n",
    "print('The largest change in price of $' + str(max_abs_change[1]) + ' occured between ' + str(max_abs_change[0]) + ' and the previous trading day')"
   ]
  },
  {
   "cell_type": "markdown",
   "metadata": {},
   "source": [
    "### Step 6\n",
    "What was the average daily trading volume during this year?"
   ]
  },
  {
   "cell_type": "code",
   "execution_count": 101,
   "metadata": {},
   "outputs": [
    {
     "name": "stdout",
     "output_type": "stream",
     "text": [
      "The average daily trading volume during the year was 89124.33725490196.\n"
     ]
    }
   ],
   "source": [
    "# start count and sum at 0\n",
    "(count , sum) = (0, 0)\n",
    "# sum the traded volume and compute the average\n",
    "for date in dict_date.keys():\n",
    "    if dict_date[date]['Traded Volume'] is not None:\n",
    "        count += 1\n",
    "        sum +=dict_date[date]['Traded Volume']\n",
    "average_vol = sum/count\n",
    "print('The average daily trading volume during the year was ' + str(average_vol) + '.')"
   ]
  },
  {
   "cell_type": "markdown",
   "metadata": {},
   "source": [
    "### Step 7\n",
    "What was the median daily trading volume during this year?"
   ]
  },
  {
   "cell_type": "code",
   "execution_count": 102,
   "metadata": {},
   "outputs": [
    {
     "name": "stdout",
     "output_type": "stream",
     "text": [
      "The median trading volume over the year was 76286.0\n"
     ]
    }
   ],
   "source": [
    "# create dictionary of trading volume keyed by date\n",
    "vol = {}\n",
    "for date in dict_date.keys():\n",
    "    if dict_date[date]['Traded Volume'] is not None:\n",
    "        vol[date] = dict_date[date]['Traded Volume']\n",
    "vol = sorted(vol.items(), reverse=True, key=lambda item: item[1])\n",
    "if len(vol)%2 == 0:\n",
    "    median_vol = (vol[len(vol)/2] + vol[len(vol)/2 -1] )/2\n",
    "else:\n",
    "    median_vol = vol[int(len(vol)/2)]\n",
    "print('The median trading volume over the year was ' + str(median_vol[1]))"
   ]
  }
 ],
 "metadata": {
  "interpreter": {
   "hash": "7635eb1b9d0fe97add78a7368b6b431c09bb8ad5c42e437d64abdd99821c31ae"
  },
  "kernelspec": {
   "display_name": "snakes",
   "language": "python",
   "name": "snakes"
  },
  "language_info": {
   "codemirror_mode": {
    "name": "ipython",
    "version": 3
   },
   "file_extension": ".py",
   "mimetype": "text/x-python",
   "name": "python",
   "nbconvert_exporter": "python",
   "pygments_lexer": "ipython3",
   "version": "3.9.15"
  }
 },
 "nbformat": 4,
 "nbformat_minor": 4
}
